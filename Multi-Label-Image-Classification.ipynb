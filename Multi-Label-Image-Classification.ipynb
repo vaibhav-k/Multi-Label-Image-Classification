{
  "nbformat": 4,
  "nbformat_minor": 0,
  "metadata": {
    "colab": {
      "name": "Lab1Colab.ipynb",
      "version": "0.3.2",
      "provenance": [],
      "collapsed_sections": []
    },
    "kernelspec": {
      "display_name": "Python 3",
      "language": "python",
      "name": "python3"
    },
    "accelerator": "GPU"
  },
  "cells": [
    {
      "metadata": {
        "id": "ICl3w-VOQxQf",
        "colab_type": "code",
        "colab": {
          "base_uri": "https://localhost:8080/",
          "height": 34
        },
        "outputId": "37d47b13-e903-4bdd-93c0-c21a0045f1d8"
      },
      "cell_type": "code",
      "source": [
        "# Making the necessary imports\n",
        "\n",
        "import numpy as np\n",
        "import pandas as pd\n",
        "from sklearn.model_selection import train_test_split\n",
        "from sklearn.preprocessing import LabelEncoder\n",
        "from sklearn.preprocessing import OneHotEncoder\n",
        "from sklearn.utils import shuffle\n",
        "import cv2 as cv\n",
        "import keras\n",
        "from keras.layers import Conv2D, Flatten, Dense, MaxPool2D,MaxPooling2D, Activation, Dropout, BatchNormalization, Input\n",
        "from keras.models import Sequential, Model\n",
        "from keras.utils import np_utils, to_categorical\n",
        "from keras.callbacks import EarlyStopping, ModelCheckpoint\n",
        "import os\n",
        "import glob"
      ],
      "execution_count": 1,
      "outputs": [
        {
          "output_type": "stream",
          "text": [
            "Using TensorFlow backend.\n"
          ],
          "name": "stderr"
        }
      ]
    },
    {
      "metadata": {
        "id": "fxsLry5cR6oX",
        "colab_type": "code",
        "colab": {
          "base_uri": "https://localhost:8080/",
          "height": 153
        },
        "outputId": "26b10461-eeb6-456b-b0a9-7ac4f30a0c62"
      },
      "cell_type": "code",
      "source": [
        "!apt-get install -y -qq software-properties-common python-software-properties module-init-tools\n",
        "!add-apt-repository -y ppa:alessandro-strada/ppa 2>&1 > /dev/null\n",
        "!apt-get update -qq 2>&1 > /dev/null\n",
        "!apt-get -y install -qq google-drive-ocamlfuse fuse\n",
        "\n",
        "from google.colab import auth\n",
        "auth.authenticate_user()\n",
        "from google.colab import drive\n",
        "drive.mount(\"/content/drive\")"
      ],
      "execution_count": 2,
      "outputs": [
        {
          "output_type": "stream",
          "text": [
            "gpg: keybox '/tmp/tmpyiqnwtfi/pubring.gpg' created\n",
            "gpg: /tmp/tmpyiqnwtfi/trustdb.gpg: trustdb created\n",
            "gpg: key AD5F235DF639B041: public key \"Launchpad PPA for Alessandro Strada\" imported\n",
            "gpg: Total number processed: 1\n",
            "gpg:               imported: 1\n",
            "Warning: apt-key output should not be parsed (stdout is not a terminal)\n",
            "E: Unable to locate package google-drive-ocamlfuse\n",
            "Mounted at /content/drive\n"
          ],
          "name": "stdout"
        }
      ]
    },
    {
      "metadata": {
        "id": "rCcz4_elQxQm",
        "colab_type": "code",
        "colab": {
          "base_uri": "https://localhost:8080/",
          "height": 357
        },
        "outputId": "8f32352a-8eab-4cab-9e81-8943a5ba91ef"
      },
      "cell_type": "code",
      "source": [
        "# Importing training images for preprocessing\n",
        "\n",
        "total_images = 0\n",
        "major = os.listdir(\"drive/My Drive/training\")\n",
        "full_path = []\n",
        "image_labels = []\n",
        "all_labels = ['donuts', 'salad', 'lasagna', 'pancakes', 'pizza', 'risotto', 'cat', 'dog', 'monkey', 'squirrel', 'daisy', 'dandelion', 'sunflower', 'rose', 'tulip']\n",
        "\n",
        "print(\"Loading file structure...\\n\")\n",
        "for a in major:\n",
        "    for b in os.listdir(\"drive/My Drive/training/\" + a):\n",
        "        full_path.append(\"drive/My Drive/training/\"+a+\"/\"+b+\"/\")\n",
        "        #all_labels.append(b)\n",
        "        \n",
        "print(\"Loading training images...\\n\")\n",
        "train_images = []\n",
        "for i in full_path:\n",
        "    images_in_folder = 0\n",
        "    label = i.split('/')[4]\n",
        "    for file in glob.glob(i+\"*.jpg\"):\n",
        "        img = cv.cvtColor(cv.imread(file),cv.COLOR_BGR2RGB)\n",
        "        img = cv.resize(img, (192,192))\n",
        "        total_images+=1\n",
        "        train_images.append(img)\n",
        "        image_labels.append(all_labels.index(label))\n",
        "        images_in_folder += 1\n",
        "    print(\"The total number of images in %s = %d\" % (i,images_in_folder))\n",
        "print(\"The total number of images in data = \" + str(total_images))"
      ],
      "execution_count": 3,
      "outputs": [
        {
          "output_type": "stream",
          "text": [
            "Loading file structure...\n",
            "\n",
            "Loading training images...\n",
            "\n",
            "The total number of images in drive/My Drive/training/animals/cat/ = 289\n",
            "The total number of images in drive/My Drive/training/animals/squirrel/ = 386\n",
            "The total number of images in drive/My Drive/training/animals/dog/ = 297\n",
            "The total number of images in drive/My Drive/training/animals/monkey/ = 299\n",
            "The total number of images in drive/My Drive/training/flowers/sunflower/ = 552\n",
            "The total number of images in drive/My Drive/training/flowers/tulip/ = 744\n",
            "The total number of images in drive/My Drive/training/flowers/dandelion/ = 789\n",
            "The total number of images in drive/My Drive/training/flowers/daisy/ = 577\n",
            "The total number of images in drive/My Drive/training/flowers/rose/ = 588\n",
            "The total number of images in drive/My Drive/training/food/risotto/ = 364\n",
            "The total number of images in drive/My Drive/training/food/lasagna/ = 348\n",
            "The total number of images in drive/My Drive/training/food/pizza/ = 362\n",
            "The total number of images in drive/My Drive/training/food/donuts/ = 101\n",
            "The total number of images in drive/My Drive/training/food/pancakes/ = 356\n",
            "The total number of images in drive/My Drive/training/food/salad/ = 354\n",
            "The total number of images in data = 6406\n"
          ],
          "name": "stdout"
        }
      ]
    },
    {
      "metadata": {
        "id": "h_rDG6SsQxQp",
        "colab_type": "code",
        "colab": {}
      },
      "cell_type": "code",
      "source": [
        "# Reducing pixel values range to 0 to 1\n",
        "\n",
        "X_train = np.array(train_images, np.float32) / 255."
      ],
      "execution_count": 0,
      "outputs": []
    },
    {
      "metadata": {
        "id": "va-njipOQxQs",
        "colab_type": "code",
        "colab": {
          "base_uri": "https://localhost:8080/",
          "height": 34
        },
        "outputId": "eed0bce8-a091-4e1b-8181-0c0bf5bfbac8"
      },
      "cell_type": "code",
      "source": [
        "# One hot encoding for labels\n",
        "\n",
        "image_labels = to_categorical(image_labels)\n",
        "print (image_labels.shape)"
      ],
      "execution_count": 5,
      "outputs": [
        {
          "output_type": "stream",
          "text": [
            "(6406, 15)\n"
          ],
          "name": "stdout"
        }
      ]
    },
    {
      "metadata": {
        "id": "ToTvVAN7QxQv",
        "colab_type": "code",
        "colab": {}
      },
      "cell_type": "code",
      "source": [
        "# Normalization\n",
        "\n",
        "mean_img = X_train.mean(axis=0)\n",
        "std_dev = X_train.std(axis = 0)\n",
        "X_norm = (X_train - mean_img)/ std_dev\n",
        "X_norm, image_labels = shuffle(X_norm, image_labels, random_state=0)"
      ],
      "execution_count": 0,
      "outputs": []
    },
    {
      "metadata": {
        "id": "CV9wUnEsQxQ1",
        "colab_type": "code",
        "colab": {
          "base_uri": "https://localhost:8080/",
          "height": 34
        },
        "outputId": "213b810b-1d8a-4ae9-ad6c-36907c30a33d"
      },
      "cell_type": "code",
      "source": [
        "# Creating train validation split\n",
        "\n",
        "Xtrain, Xvalid, Ytrain, Yvalid = train_test_split(X_norm, image_labels, test_size=0.2, random_state=7)\n",
        "print(Xtrain.shape)\n"
      ],
      "execution_count": 7,
      "outputs": [
        {
          "output_type": "stream",
          "text": [
            "(5124, 192, 192, 3)\n"
          ],
          "name": "stdout"
        }
      ]
    },
    {
      "metadata": {
        "id": "QhMAn88cQxQ-",
        "colab_type": "code",
        "colab": {}
      },
      "cell_type": "code",
      "source": [
        "model = Sequential()\n",
        "model.add(BatchNormalization(input_shape=Xtrain.shape[1:]))\n",
        "model.add(Conv2D(32, kernel_size=(3, 3), activation= 'relu',padding= 'same'))\n",
        "model.add(Conv2D(32, kernel_size=(3, 3), activation= 'relu'))\n",
        "model.add(MaxPooling2D(pool_size=(3,3)))\n",
        "model.add(Dropout(0.4))\n",
        "\n",
        "model.add(Conv2D(64, kernel_size=(3, 3), activation= 'relu', padding='same'))\n",
        "model.add(Conv2D(64, kernel_size=(3, 3), activation= 'relu'))\n",
        "model.add(MaxPooling2D(pool_size=(3,3)))\n",
        "model.add(Dropout(0.3))\n",
        "\n",
        "model.add(Conv2D(128, kernel_size=(3, 3), activation= 'relu', padding='same'))\n",
        "model.add(Conv2D(128, kernel_size=(3, 3), activation= 'relu'))\n",
        "model.add(MaxPooling2D(pool_size=(3,3)))\n",
        "model.add(Dropout(0.3))\n",
        "\n",
        "model.add(Flatten())\n",
        "model.add(Dropout(0.5))\n",
        "model.add(Dense(15, activation='softmax'))\n",
        "\n",
        "model.compile(loss='categorical_crossentropy', optimizer='adam', metrics=['accuracy'])"
      ],
      "execution_count": 0,
      "outputs": []
    },
    {
      "metadata": {
        "id": "EGT3i_w3AYZe",
        "colab_type": "code",
        "colab": {}
      },
      "cell_type": "code",
      "source": [
        "early_stops = EarlyStopping(patience=3, monitor='val_acc')"
      ],
      "execution_count": 0,
      "outputs": []
    },
    {
      "metadata": {
        "id": "8R0VwRSKQxRF",
        "colab_type": "code",
        "colab": {
          "base_uri": "https://localhost:8080/",
          "height": 697
        },
        "outputId": "4245943d-fa01-4e9a-8473-b46420523f5f"
      },
      "cell_type": "code",
      "source": [
        "trained_model = model.fit(Xtrain, Ytrain, epochs = 20, shuffle = True, batch_size = 100)"
      ],
      "execution_count": 11,
      "outputs": [
        {
          "output_type": "stream",
          "text": [
            "Epoch 1/20\n",
            "5124/5124 [==============================] - 24s 5ms/step - loss: 2.3453 - acc: 0.1786\n",
            "Epoch 2/20\n",
            "5124/5124 [==============================] - 24s 5ms/step - loss: 1.9583 - acc: 0.3062\n",
            "Epoch 3/20\n",
            "5124/5124 [==============================] - 24s 5ms/step - loss: 1.7116 - acc: 0.3854\n",
            "Epoch 4/20\n",
            "5124/5124 [==============================] - 24s 5ms/step - loss: 1.5716 - acc: 0.4379\n",
            "Epoch 5/20\n",
            "5124/5124 [==============================] - 24s 5ms/step - loss: 1.4533 - acc: 0.4781\n",
            "Epoch 6/20\n",
            "5124/5124 [==============================] - 23s 5ms/step - loss: 1.3832 - acc: 0.5100\n",
            "Epoch 7/20\n",
            "5124/5124 [==============================] - 23s 5ms/step - loss: 1.2868 - acc: 0.5480\n",
            "Epoch 8/20\n",
            "5124/5124 [==============================] - 23s 5ms/step - loss: 1.2389 - acc: 0.5669\n",
            "Epoch 9/20\n",
            "5124/5124 [==============================] - 23s 5ms/step - loss: 1.1561 - acc: 0.5943\n",
            "Epoch 10/20\n",
            "5124/5124 [==============================] - 23s 5ms/step - loss: 1.1204 - acc: 0.6054\n",
            "Epoch 11/20\n",
            "5124/5124 [==============================] - 23s 5ms/step - loss: 1.0631 - acc: 0.6255\n",
            "Epoch 12/20\n",
            "5124/5124 [==============================] - 23s 5ms/step - loss: 1.0020 - acc: 0.6516\n",
            "Epoch 13/20\n",
            "5124/5124 [==============================] - 23s 5ms/step - loss: 0.9911 - acc: 0.6598\n",
            "Epoch 14/20\n",
            "5124/5124 [==============================] - 23s 5ms/step - loss: 0.9322 - acc: 0.6743\n",
            "Epoch 15/20\n",
            "5124/5124 [==============================] - 23s 5ms/step - loss: 0.8818 - acc: 0.6868\n",
            "Epoch 16/20\n",
            "5124/5124 [==============================] - 23s 5ms/step - loss: 0.8576 - acc: 0.6952\n",
            "Epoch 17/20\n",
            "5124/5124 [==============================] - 23s 5ms/step - loss: 0.8372 - acc: 0.7073\n",
            "Epoch 18/20\n",
            "5124/5124 [==============================] - 23s 5ms/step - loss: 0.7751 - acc: 0.7244\n",
            "Epoch 19/20\n",
            "5124/5124 [==============================] - 23s 5ms/step - loss: 0.7726 - acc: 0.7254\n",
            "Epoch 20/20\n",
            "5124/5124 [==============================] - 23s 5ms/step - loss: 0.7465 - acc: 0.7336\n"
          ],
          "name": "stdout"
        }
      ]
    },
    {
      "metadata": {
        "id": "wILSTcY0dlDG",
        "colab_type": "code",
        "colab": {}
      },
      "cell_type": "code",
      "source": [
        "model.save('model.h5')"
      ],
      "execution_count": 0,
      "outputs": []
    },
    {
      "metadata": {
        "id": "4vWUgwxljyN8",
        "colab_type": "code",
        "colab": {
          "base_uri": "https://localhost:8080/",
          "height": 34
        },
        "outputId": "8be4a3c3-a68e-4080-f5ec-2018ea6e7aba"
      },
      "cell_type": "code",
      "source": [
        "!ls\n",
        "from google.colab import files\n",
        "#files.download('model.h5')\n",
        "!mv model.h5  drive/My\\ Drive"
      ],
      "execution_count": 25,
      "outputs": [
        {
          "output_type": "stream",
          "text": [
            "adc.json  drive  model.h5  sample_data\n"
          ],
          "name": "stdout"
        }
      ]
    }
  ]
}